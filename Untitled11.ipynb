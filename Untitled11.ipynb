{
 "cells": [
  {
   "cell_type": "code",
   "execution_count": 3,
   "id": "70989e10-3561-4b1a-a452-dff184a41fb0",
   "metadata": {},
   "outputs": [
    {
     "name": "stdout",
     "output_type": "stream",
     "text": [
      "[1, 3, 5, 7, 9, 11, 13, 15, 17, 19, 21, 23]\n"
     ]
    }
   ],
   "source": [
    "#Q1\n",
    "\n",
    "# def kewoard is used to create function\n",
    "\n",
    "def odd():\n",
    "    l1=[]\n",
    "    for i in range(1,25):\n",
    "        if(i%2!=0):\n",
    "            l1.append(i)\n",
    "            \n",
    "    return l1    \n",
    "\n",
    "print(odd())"
   ]
  },
  {
   "cell_type": "code",
   "execution_count": 13,
   "id": "24ff9422-532e-41f3-8f87-249fa81a74b1",
   "metadata": {},
   "outputs": [
    {
     "data": {
      "text/plain": [
       "{'a': 'avi', 'b': 'Tommy', 'c': 23.45}"
      ]
     },
     "execution_count": 13,
     "metadata": {},
     "output_type": "execute_result"
    }
   ],
   "source": [
    "#Q2\n",
    "\n",
    " # *args : It is used if we have to pass  n-number of parameters dynamically\n",
    "    \n",
    "def fun4(*args):\n",
    "    return args\n",
    " \n",
    "fun4(1,2,3)\n",
    "\n",
    "## **kwargs : If is used if we want our output in key-value format\n",
    "\n",
    "\n",
    "def fun5(**kwargs):\n",
    "    return kwargs\n",
    "\n",
    "fun5(a='avi', b=\"Tommy\",c=23.45)"
   ]
  },
  {
   "cell_type": "code",
   "execution_count": 22,
   "id": "8fd6c688-d6b5-4c03-b6a5-859a1fb5b631",
   "metadata": {},
   "outputs": [
    {
     "name": "stdout",
     "output_type": "stream",
     "text": [
      "2\n",
      "4\n",
      "6\n",
      "8\n",
      "10\n"
     ]
    }
   ],
   "source": [
    "#Q3\n",
    "\n",
    "# An iterator in Python is an object that contains a countable number of elements that can be iterated upon\n",
    "\n",
    "# The Python iterators object is initialized using the iter() method. It uses the next() method for iteration\n",
    "\n",
    "l=[2, 4, 6, 8, 10, 12, 14,16, 18, 20]\n",
    "\n",
    "l1=iter(l)\n",
    "\n",
    "for i in range(5):\n",
    "    print(next(l1))"
   ]
  },
  {
   "cell_type": "code",
   "execution_count": 27,
   "id": "71ec65be-5df6-4143-945d-9b5ac25e2aad",
   "metadata": {},
   "outputs": [
    {
     "name": "stdout",
     "output_type": "stream",
     "text": [
      "0\n",
      "1\n",
      "1\n",
      "2\n",
      "3\n",
      "5\n",
      "8\n",
      "13\n",
      "21\n",
      "34\n"
     ]
    }
   ],
   "source": [
    "#Q4\n",
    "\n",
    "#geneartor function is usedd for memory optimization. It produces a sequence of values when itertaed over. They are useful when we want to produce large sequence of values but we dont want to store them in memory at once.\n",
    "\n",
    "# the yield keyword will convert an expression that is specified along with it to a generator object and return it to the caller.\n",
    "\n",
    "# Eg of Generator Function\n",
    "\n",
    "\n",
    "##PRINT FIBONACCI SERIES\n",
    "\n",
    "def fib(n):\n",
    "    a,b=0,1\n",
    "    \n",
    "    for i in range(0,n):\n",
    "        yield a\n",
    "        a,b=b,a+b\n",
    "        \n",
    "    \n",
    " \n",
    "for i in fib(10):\n",
    "    print(i)"
   ]
  },
  {
   "cell_type": "code",
   "execution_count": null,
   "id": "d1526912-4ce6-456c-bbd6-87950b614c85",
   "metadata": {},
   "outputs": [],
   "source": []
  },
  {
   "cell_type": "code",
   "execution_count": 30,
   "id": "35cc2818-527d-4308-8ed3-80c30d3b2691",
   "metadata": {},
   "outputs": [],
   "source": [
    "#Q5\n",
    "#Create a generator function for prime numbers less than 1000. Use the next() method to print the\n",
    "#first 20 prime numbers.\n",
    "\n",
    "def prime(n):\n",
    "    flag=0\n",
    "    for i in range(1,101):\n",
    "        if i>1:\n",
    "            for i in range(2,n):\n",
    "                if(n%2==0):\n",
    "                    break\n",
    "                    \n",
    "                else:\n",
    "                   yield n \n",
    "\n"
   ]
  },
  {
   "cell_type": "code",
   "execution_count": 31,
   "id": "f68abec0-5781-4451-8d42-d27e057b8963",
   "metadata": {},
   "outputs": [],
   "source": [
    "for i in prime(100):\n",
    "    print(i)"
   ]
  },
  {
   "cell_type": "code",
   "execution_count": 26,
   "id": "3da94cce-948e-4256-8bae-f2f7e9e17d5f",
   "metadata": {},
   "outputs": [
    {
     "name": "stdout",
     "output_type": "stream",
     "text": [
      "0\n",
      "1\n",
      "1\n",
      "2\n",
      "3\n",
      "5\n",
      "8\n",
      "13\n",
      "21\n",
      "34\n"
     ]
    }
   ],
   "source": [
    "#Q6\n",
    "\n",
    "#Write a python program to print the first 10 Fibonacci numbers using a while loop.\n",
    "\n",
    "a,b=0,1\n",
    "count=0\n",
    "while(count<10):\n",
    "    print(a)\n",
    "    a,b=b,a+b\n",
    "    count=count+1"
   ]
  },
  {
   "cell_type": "code",
   "execution_count": 19,
   "id": "95aac3bd-c706-4850-ae8f-97a6913d38a6",
   "metadata": {},
   "outputs": [
    {
     "name": "stdout",
     "output_type": "stream",
     "text": [
      "['p', 'w', 's', 'k', 'i', 'l', 'l', 's']\n"
     ]
    }
   ],
   "source": [
    "#Q7\n",
    "\n",
    "s=\"pwskills\"\n",
    "t=[]\n",
    "\n",
    "for i in s:\n",
    "    t.append(i)\n",
    "\n",
    "print(t)\n"
   ]
  },
  {
   "cell_type": "code",
   "execution_count": 5,
   "id": "0da93b7a-1613-4938-b106-775fbe822c29",
   "metadata": {},
   "outputs": [
    {
     "name": "stdout",
     "output_type": "stream",
     "text": [
      "No Palindrome\n"
     ]
    }
   ],
   "source": [
    "#Q8\n",
    "\n",
    "a=1010\n",
    "rev=0\n",
    "temp=a\n",
    "\n",
    "while(a>0):\n",
    "    dig=a%10\n",
    "    rev=rev*10+dig\n",
    "    a=a//10\n",
    " \n",
    "if(temp==rev):\n",
    "    print('Palindrome')\n",
    "else:\n",
    "    print('No Palindrome')\n",
    "    "
   ]
  },
  {
   "cell_type": "code",
   "execution_count": 1,
   "id": "a2fd8bde-f65e-4358-8649-80af61c413ff",
   "metadata": {},
   "outputs": [
    {
     "data": {
      "text/plain": [
       "[1,\n",
       " 3,\n",
       " 5,\n",
       " 7,\n",
       " 9,\n",
       " 11,\n",
       " 13,\n",
       " 15,\n",
       " 17,\n",
       " 19,\n",
       " 21,\n",
       " 23,\n",
       " 25,\n",
       " 27,\n",
       " 29,\n",
       " 31,\n",
       " 33,\n",
       " 35,\n",
       " 37,\n",
       " 39,\n",
       " 41,\n",
       " 43,\n",
       " 45,\n",
       " 47,\n",
       " 49,\n",
       " 51,\n",
       " 53,\n",
       " 55,\n",
       " 57,\n",
       " 59,\n",
       " 61,\n",
       " 63,\n",
       " 65,\n",
       " 67,\n",
       " 69,\n",
       " 71,\n",
       " 73,\n",
       " 75,\n",
       " 77,\n",
       " 79,\n",
       " 81,\n",
       " 83,\n",
       " 85,\n",
       " 87,\n",
       " 89,\n",
       " 91,\n",
       " 93,\n",
       " 95,\n",
       " 97,\n",
       " 99]"
      ]
     },
     "execution_count": 1,
     "metadata": {},
     "output_type": "execute_result"
    }
   ],
   "source": [
    "#Q9\n",
    "\n",
    "l1=range(1,100)\n",
    "\n",
    "list(filter(lambda x:x%2!=0,l1))"
   ]
  },
  {
   "cell_type": "code",
   "execution_count": 62,
   "id": "971f9afa-6a80-45c9-b4b3-1cedbbaa9878",
   "metadata": {},
   "outputs": [
    {
     "name": "stdout",
     "output_type": "stream",
     "text": [
      "range(1, 100)\n"
     ]
    }
   ],
   "source": []
  },
  {
   "cell_type": "code",
   "execution_count": null,
   "id": "d21dd2ff-75a6-451d-9c12-8300a734b601",
   "metadata": {},
   "outputs": [],
   "source": []
  }
 ],
 "metadata": {
  "kernelspec": {
   "display_name": "Python 3 (ipykernel)",
   "language": "python",
   "name": "python3"
  },
  "language_info": {
   "codemirror_mode": {
    "name": "ipython",
    "version": 3
   },
   "file_extension": ".py",
   "mimetype": "text/x-python",
   "name": "python",
   "nbconvert_exporter": "python",
   "pygments_lexer": "ipython3",
   "version": "3.10.8"
  }
 },
 "nbformat": 4,
 "nbformat_minor": 5
}
